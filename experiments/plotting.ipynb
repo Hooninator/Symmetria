{
 "cells": [
  {
   "cell_type": "code",
   "execution_count": null,
   "id": "37c51482-c1eb-43e2-8b04-540512574f3a",
   "metadata": {
    "tags": []
   },
   "outputs": [],
   "source": [
    "import matplotlib.pyplot as plt\n",
    "import pandas as pd\n",
    "import numpy as np\n",
    "\n",
    "import os\n",
    "import json"
   ]
  },
  {
   "cell_type": "code",
   "execution_count": null,
   "id": "a183b73c-04de-4677-92b7-1f2274bfac3f",
   "metadata": {
    "tags": []
   },
   "outputs": [],
   "source": [
    "def get_info_from_dirname(dirname):\n",
    "    \n",
    "    info = dirname.split(\"_\")\n",
    "    algorithm = info[2]+\"_\"+info[3]\n",
    "    matname = info[4]\n",
    "    nodes = int(info[5].split(\"Nodes\")[0])\n",
    "    \n",
    "    return algorithm, matname, nodes"
   ]
  },
  {
   "cell_type": "code",
   "execution_count": null,
   "id": "9d10c8cd-3b04-4980-aaeb-febd4da905d8",
   "metadata": {
    "tags": []
   },
   "outputs": [],
   "source": [
    "path = \"./timings\"\n",
    "os.listdir(path)"
   ]
  },
  {
   "cell_type": "code",
   "execution_count": null,
   "id": "f778de6b-9481-45ec-847a-23021db9fa7a",
   "metadata": {
    "tags": []
   },
   "outputs": [],
   "source": [
    "dirs = os.listdir(path)\n",
    "syrk_1d_df = pd.DataFrame()\n",
    "syrk_2d_df = pd.DataFrame()\n",
    "combblas_df = pd.DataFrame()\n",
    "for d in dirs:\n",
    "    \n",
    "    experiment_info = get_info_from_dirname(d)    \n",
    "    csv_files = list(filter(lambda s: \".csv\" in s, os.listdir(f\"{path}/{d}\")))\n",
    "    \n",
    "    # This sucks\n",
    "    for f in csv_files:\n",
    "        timing_df = pd.read_csv(f\"{path}/{d}/{f}\")\n",
    "        if \"combblas\" in experiment_info[0]:\n",
    "            timing_df = timing_df.loc[timing_df[\"Timer Name\"]==\"CPUMult\"]\n",
    "        colnames = list(timing_df.iloc[:, 0])\n",
    "        timing_df = timing_df.transpose()\n",
    "        timing_df.columns = colnames\n",
    "        timing_df[\"Algorithm\"], timing_df[\"Matrix\"], timing_df[\"nodes\"] = experiment_info\n",
    "        timing_df[\"rank\"] = f.split(\"_\")[-1].split(\".csv\")[0]\n",
    "        timing_df = timing_df.iloc[[1]]\n",
    "        if \"spsyrk_1d\" in experiment_info[0]:\n",
    "            syrk_1d_df = pd.concat([syrk_1d_df, timing_df], ignore_index=True)\n",
    "        elif \"spsyrk_2d\" in experiment_info[0]:\n",
    "            syrk_2d_df = pd.concat([syrk_2d_df, timing_df], ignore_index=True)\n",
    "        elif \"combblas\" in experiment_info[0]:\n",
    "            combblas_df = pd.concat([combblas_df, timing_df], ignore_index=True)"
   ]
  },
  {
   "cell_type": "code",
   "execution_count": null,
   "id": "4fc1975f-1c6e-4c18-a66f-0109a0debef2",
   "metadata": {
    "tags": []
   },
   "outputs": [],
   "source": [
    "def plot_runtimes(syrk_2d_df, syrk_1d_df, combblas_df):\n",
    "    \n",
    "    syrk_2d_f = list(syrk_2d_df.groupby(\"nodes\")[\"SpSYRK\"])\n",
    "    syrk_1d_f = list(syrk_1d_df.groupby(\"nodes\")[\"SpSYRK\"])\n",
    "    combblas_f = list(combblas_df.groupby(\"nodes\")[\"CPUMult\"])\n",
    "    \n",
    "    nodes = []\n",
    "    syrk_2d_y = []\n",
    "    for i in range(len(syrk_2d_f)):\n",
    "        syrk_2d_y.append(list(syrk_2d_f[i][1])[0]) # This is horrible\n",
    "    \n",
    "    syrk_1d_y = []\n",
    "    for i in range(len(syrk_1d_f)):\n",
    "        syrk_1d_y.append(list(syrk_1d_f[i][1])[0]) # This is horrible\n",
    "        nodes.append(list(list(syrk_1d_df.groupby(\"nodes\")[\"nodes\"])[i][1])[0])\n",
    "    \n",
    "    combblas_y = []\n",
    "    for i in range(len(combblas_f)):\n",
    "        combblas_y.append(list(combblas_f[i][1])[0]) # This is horrible\n",
    "    \n",
    "    for i in range(len(syrk_1d_y)-len(syrk_2d_y)):\n",
    "        syrk_2d_y.append(0)\n",
    "    ind = np.arange(len(syrk_1d_y))\n",
    "    \n",
    "    wid=0.2\n",
    "    plt.bar(ind-wid, combblas_y, width=wid, edgecolor='black', label=\"CombBLAS\")\n",
    "    plt.bar(ind, syrk_1d_y, width=wid, edgecolor='black', label=\"SpSYRK1D\") \n",
    "    plt.bar(ind+wid, syrk_2d_y, width=wid, edgecolor='black', label=\"SpSYRK2D\") \n",
    "    plt.xticks(ind, np.array(nodes)*4)\n",
    "    plt.ylabel(\"Runtime (s)\")\n",
    "    plt.xlabel(\"GPUs\")\n",
    "    plt.title(f\"Runtime Comparison for {syrk_2d_df['Matrix'][0]}\")\n",
    "    plt.legend()\n",
    "    plt.savefig(f\"./plots/runtimes_{syrk_2d_df['Matrix'][0]}\", bbox_inches='tight')"
   ]
  },
  {
   "cell_type": "code",
   "execution_count": null,
   "id": "18506bb6-5d33-461f-bcc0-6fe2500053a5",
   "metadata": {
    "tags": []
   },
   "outputs": [],
   "source": [
    "plot_runtimes(syrk_2d_df, syrk_1d_df, combblas_df)"
   ]
  },
  {
   "cell_type": "code",
   "execution_count": null,
   "id": "b34ed2ff-0acd-4db7-8049-dceca32efeeb",
   "metadata": {
    "tags": []
   },
   "outputs": [],
   "source": [
    "def plot_breakdown_2d(df):\n",
    "    plt.figure(figsize=(10, 6))\n",
    "    gpn = 4\n",
    "\n",
    "    # Bar positions\n",
    "    ind = range(len(df))\n",
    "\n",
    "    # Bottom bars (for stacking)\n",
    "    bar1 = df['Merge']\n",
    "    bar2 = df['Merge'] + df['TuplesMemcpy']\n",
    "    bar3 = df['Merge'] + df['TuplesMemcpy'] + df['LocalMultiply']\n",
    "\n",
    "    # Plotting each group, stacking the bars\n",
    "    plt.bar(ind, df['Merge'], label='Merge', edgecolor='black')\n",
    "    plt.bar(ind, df['TuplesMemcpy'], bottom=df['Merge'], label='CopyTriples', edgecolor='black')\n",
    "    plt.bar(ind, df['LocalMultiply'], bottom=bar2, label='LocalMultiply', edgecolor='black')\n",
    "    plt.bar(ind, df['TileGet'], bottom=bar3, label='TileGet', edgecolor='black')\n",
    "\n",
    "    # Adding labels and title\n",
    "    plt.xlabel('Rank')\n",
    "    plt.ylabel('Runtime (s)')\n",
    "    plt.title(f'Runtime Breakdown of 2D SpSYRK on {list(df[\"Matrix\"])[0]} ({gpn*(list(df[\"nodes\"])[0])} GPUs)')\n",
    "\n",
    "    # Set the ticks on x-axis\n",
    "    plt.xticks(ind, df[\"rank\"])\n",
    "\n",
    "    # Adding the legend\n",
    "    plt.legend(loc='upper right')\n",
    "    \n",
    "    plt.savefig(f\"./plots/breakdown_2d_{list(df['Matrix'])[0]}\", bbox_inches='tight')\n",
    "\n",
    "    # Display the plot\n",
    "    plt.show()"
   ]
  },
  {
   "cell_type": "code",
   "execution_count": null,
   "id": "816e09e2-7833-4c4d-b5fa-b0d8bc402930",
   "metadata": {
    "tags": []
   },
   "outputs": [],
   "source": [
    "def plot_breakdown_2d_nomerge(df):\n",
    "    plt.figure(figsize=(10, 6))\n",
    "    gpn = 4\n",
    "\n",
    "    # Bar positions\n",
    "    ind = range(len(df))\n",
    "\n",
    "    # Bottom bars (for stacking)\n",
    "    bar1 = df['TuplesMemcpy']\n",
    "    bar2 = df['TuplesMemcpy'] + df['LocalMultiply']\n",
    "\n",
    "    # Plotting each group, stacking the bars\n",
    "    plt.bar(ind, df['TuplesMemcpy'], label='CopyTriples', edgecolor='black')\n",
    "    plt.bar(ind, df['LocalMultiply'], bottom=bar1, label='LocalMultiply', edgecolor='black')\n",
    "    plt.bar(ind, df['TileGet'], bottom=bar2, label='TileGet', edgecolor='black')\n",
    "\n",
    "    # Adding labels and title\n",
    "    plt.xlabel('Rank')\n",
    "    plt.ylabel('Runtime (s)')\n",
    "    plt.title(f'Runtime Breakdown of 2D SpSYRK on {list(df[\"Matrix\"])[0]} ({gpn*(list(df[\"nodes\"])[0])} GPUs)')\n",
    "\n",
    "    # Set the ticks on x-axis\n",
    "    plt.xticks(ind, df[\"rank\"])\n",
    "\n",
    "    # Adding the legend\n",
    "    plt.legend(loc='upper right')\n",
    "    \n",
    "    plt.savefig(f\"./plots/breakdown_2d_nomerge_{list(df['Matrix'])[0]}\", bbox_inches='tight')\n",
    "\n",
    "    # Display the plot\n",
    "    plt.show()"
   ]
  },
  {
   "cell_type": "code",
   "execution_count": null,
   "id": "20d044aa-b598-434c-b2aa-a4c2282c7382",
   "metadata": {
    "tags": []
   },
   "outputs": [],
   "source": [
    "def plot_breakdown_1d(df):\n",
    "    plt.figure(figsize=(10, 6))\n",
    "    gpn = 4\n",
    "\n",
    "    # Bar positions\n",
    "    ind = np.arange(len(df))\n",
    "\n",
    "    # Bottom bars (for stacking)\n",
    "    bar1 = df['Merge']\n",
    "    bar2 = df['Merge'] + df['CopyTriples']\n",
    "    bar3 = df['Merge'] + df['CopyTriples'] + df['LocalMultiply']\n",
    "\n",
    "    # Plotting each group, stacking the bars\n",
    "    plt.bar(ind, df['Merge'], label='Merge', edgecolor='black')\n",
    "    plt.bar(ind, df['CopyTriples'], bottom=df['Merge'], label='CopyTriples', edgecolor='black')\n",
    "    plt.bar(ind, df['LocalMultiply'], bottom=bar2, label='LocalMultiply', edgecolor='black')\n",
    "    plt.bar(ind, df['Broadcast'], bottom=bar3, label='Broadcast', edgecolor='black')\n",
    "\n",
    "    # Adding labels and title\n",
    "    plt.xlabel('Rank')\n",
    "    plt.ylabel('Runtime (s)')\n",
    "    plt.title(f'Runtime Breakdown of 1D SpSYRK on {list(df[\"Matrix\"])[0]} ({gpn*(list(df[\"nodes\"])[0])} GPUs)')\n",
    "\n",
    "    # Set the ticks on x-axis\n",
    "    plt.xticks(ind[::16], df[\"rank\"][::16])\n",
    "\n",
    "    # Adding the legend\n",
    "    plt.legend(loc='upper right')\n",
    "    \n",
    "    plt.savefig(f\"./plots/breakdown_1d_{list(df['Matrix'])[0]}\", bbox_inches='tight')\n",
    "\n",
    "    # Display the plot\n",
    "    plt.show()"
   ]
  },
  {
   "cell_type": "code",
   "execution_count": null,
   "id": "2991becf-cb2c-45f1-88fa-8bdd39934f2b",
   "metadata": {
    "tags": []
   },
   "outputs": [],
   "source": [
    "def plot_breakdown_1d_nomerge(df):\n",
    "    plt.figure(figsize=(10, 6))\n",
    "    gpn = 4\n",
    "\n",
    "    # Bar positions\n",
    "    ind = range(len(df))\n",
    "\n",
    "    # Bottom bars (for stacking)\n",
    "    bar1 = df['CopyTriples']\n",
    "    bar2 = df['CopyTriples'] + df['LocalMultiply']\n",
    "\n",
    "    # Plotting each group, stacking the bars\n",
    "    #plt.bar(ind, df['Merge'], label='Merge', edgecolor='black')\n",
    "    plt.bar(ind, df['CopyTriples'], label='CopyTriples', edgecolor='black')\n",
    "    plt.bar(ind, df['LocalMultiply'], bottom=bar1, label='LocalMultiply', edgecolor='black')\n",
    "    plt.bar(ind, df['Broadcast'], bottom=bar2, label='Broadcast', edgecolor='black')\n",
    "\n",
    "    # Adding labels and title\n",
    "    plt.xlabel('Rank')\n",
    "    plt.ylabel('Runtime (s)')\n",
    "    plt.title(f'Runtime Breakdown of 1D SpSYRK on {list(df[\"Matrix\"])[0]} ({gpn*(list(df[\"nodes\"])[0])} GPUs)')\n",
    "\n",
    "    # Set the ticks on x-axis\n",
    "    plt.xticks(ind[::16], df[\"rank\"][::16])\n",
    "\n",
    "    # Adding the legend\n",
    "    plt.legend(loc='upper right')\n",
    "    \n",
    "    plt.savefig(f\"./plots/breakdown_1d_nomerge_{list(df['Matrix'])[0]}\", bbox_inches='tight')\n",
    "\n",
    "    # Display the plot\n",
    "    plt.show()"
   ]
  },
  {
   "cell_type": "code",
   "execution_count": null,
   "id": "a7c62f43-8918-4769-99bc-d713b649e621",
   "metadata": {
    "tags": []
   },
   "outputs": [],
   "source": [
    "syrk_1d_bdown_df = syrk_1d_df.loc[syrk_1d_df[\"nodes\"]==16]\n",
    "syrk_1d_bdown_df['rank'] = pd.to_numeric(syrk_1d_bdown_df['rank'], errors='coerce')\n",
    "syrk_1d_bdown_df = syrk_1d_bdown_df.sort_values(by='rank')\n",
    "plot_breakdown_1d(syrk_1d_bdown_df)\n",
    "plot_breakdown_1d_nomerge(syrk_1d_bdown_df)"
   ]
  },
  {
   "cell_type": "code",
   "execution_count": null,
   "id": "fa6ba801-f2d3-48dd-bb72-94756b8923c5",
   "metadata": {},
   "outputs": [],
   "source": [
    "syrk_2d_df['rank'] = pd.to_numeric(syrk_2d_df['rank'])\n",
    "syrk_2d_bdown_df = syrk_2d_df.sort_values(by='rank')\n",
    "plot_breakdown_2d(syrk_2d_bdown_df)\n",
    "plot_breakdown_2d_nomerge(syrk_2d_bdown_df)"
   ]
  },
  {
   "cell_type": "code",
   "execution_count": null,
   "id": "11146138-2261-48d4-a67e-f453223d3311",
   "metadata": {},
   "outputs": [],
   "source": []
  }
 ],
 "metadata": {
  "kernelspec": {
   "display_name": "NERSC Python",
   "language": "python",
   "name": "python3"
  },
  "language_info": {
   "codemirror_mode": {
    "name": "ipython",
    "version": 3
   },
   "file_extension": ".py",
   "mimetype": "text/x-python",
   "name": "python",
   "nbconvert_exporter": "python",
   "pygments_lexer": "ipython3",
   "version": "3.11.7"
  }
 },
 "nbformat": 4,
 "nbformat_minor": 5
}
